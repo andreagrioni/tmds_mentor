{
 "cells": [
  {
   "cell_type": "code",
   "execution_count": 1,
   "metadata": {},
   "outputs": [],
   "source": [
    "import h5py\n",
    "import datetime, os\n",
    "import pandas as pd\n",
    "import numpy as np\n",
    "import matplotlib.pyplot as plt\n",
    "\n",
    "from pathlib import Path\n",
    "from collections import defaultdict\n",
    "\n",
    "import tensorflow as tf \n",
    "from tensorflow import keras\n",
    "from tensorflow.keras.models import Sequential\n",
    "from tensorflow.keras.layers import Input, Dense, BatchNormalization, Dropout, LeakyReLU\n",
    "\n",
    "\n",
    "# Load the TensorBoard notebook extension\n",
    "#%reload_ext tensorboard"
   ]
  },
  {
   "cell_type": "markdown",
   "metadata": {},
   "source": [
    "# Settings"
   ]
  },
  {
   "cell_type": "code",
   "execution_count": 2,
   "metadata": {},
   "outputs": [],
   "source": [
    "# set path to h5 file\n",
    "DATAPATH = Path(\"/home/grionan1/project/tmds_mentor/data/processed/0.2_AG_final_df.h5\")\n",
    "REPORTPATH = Path(\"/home/grionan1/project/tmds_mentor/reports/\")\n",
    "MODELPATH = Path(\"/home/grionan1/project/tmds_mentor/models\")"
   ]
  },
  {
   "cell_type": "markdown",
   "metadata": {},
   "source": [
    "# Load Data"
   ]
  },
  {
   "cell_type": "code",
   "execution_count": 3,
   "metadata": {},
   "outputs": [],
   "source": [
    "# read HDF5 file\n",
    "f = h5py.File(DATAPATH, 'r')\n",
    "# get each dataset and convert to pandas DataFrame\n",
    "dset_x_train = pd.DataFrame(f['x_train'])\n",
    "dset_y_train = pd.DataFrame(f['y_train'])\n",
    "dset_x_test = pd.DataFrame(f['x_test'])\n",
    "dset_y_test = pd.DataFrame(f['y_test'])"
   ]
  },
  {
   "cell_type": "code",
   "execution_count": 4,
   "metadata": {},
   "outputs": [
    {
     "name": "stdout",
     "output_type": "stream",
     "text": [
      "X train shape is:\t(5100, 3949)\n",
      "y train shape is:\t(5100, 1)\n",
      "X test shape is:\t(900, 3949)\n",
      "y test shape is:\t(900, 1)\n"
     ]
    }
   ],
   "source": [
    "print(f'X train shape is:\\t{dset_x_train.shape}')\n",
    "print(f'y train shape is:\\t{dset_y_train.shape}')\n",
    "print(f'X test shape is:\\t{dset_x_test.shape}')\n",
    "print(f'y test shape is:\\t{dset_y_test.shape}')"
   ]
  },
  {
   "cell_type": "markdown",
   "metadata": {},
   "source": [
    "# Model Settings"
   ]
  },
  {
   "cell_type": "code",
   "execution_count": 5,
   "metadata": {},
   "outputs": [],
   "source": [
    "input_shape = dset_x_train.shape[1]"
   ]
  },
  {
   "cell_type": "code",
   "execution_count": 7,
   "metadata": {},
   "outputs": [],
   "source": [
    "model = Sequential([\n",
    "    Input(shape=(input_shape,), name='somamers'),\n",
    "    Dense(10, activation=None, kernel_initializer=\"glorot_uniform\", name='dense_1'),\n",
    "    BatchNormalization(name='batch_1'),\n",
    "    Dropout(0.60, name='drop_1'),\n",
    "    LeakyReLU(name='activation_1'),\n",
    "    Dense(1, activation='sigmoid', name='output')\n",
    "    ])"
   ]
  },
  {
   "cell_type": "code",
   "execution_count": 8,
   "metadata": {},
   "outputs": [],
   "source": [
    "model.compile(optimizer='adam',\n",
    "              loss='binary_crossentropy',\n",
    "              metrics=['accuracy'])"
   ]
  },
  {
   "cell_type": "code",
   "execution_count": 52,
   "metadata": {},
   "outputs": [
    {
     "name": "stdout",
     "output_type": "stream",
     "text": [
      "Epoch 1/25\n",
      "160/160 [==============================] - 1s 3ms/step - loss: 0.5846 - accuracy: 0.6883 - val_loss: 0.2485 - val_accuracy: 0.9911\n",
      "Epoch 2/25\n",
      "160/160 [==============================] - 0s 2ms/step - loss: 0.2200 - accuracy: 0.9586 - val_loss: 0.1174 - val_accuracy: 0.9867\n",
      "Epoch 3/25\n",
      "160/160 [==============================] - 0s 2ms/step - loss: 0.1588 - accuracy: 0.9677 - val_loss: 0.0504 - val_accuracy: 0.9944\n",
      "Epoch 4/25\n",
      "160/160 [==============================] - 0s 2ms/step - loss: 0.1024 - accuracy: 0.9871 - val_loss: 0.0389 - val_accuracy: 0.9933\n",
      "Epoch 5/25\n",
      "160/160 [==============================] - 0s 2ms/step - loss: 0.0951 - accuracy: 0.9787 - val_loss: 0.0239 - val_accuracy: 0.9967\n",
      "Epoch 6/25\n",
      "160/160 [==============================] - 0s 2ms/step - loss: 0.0863 - accuracy: 0.9813 - val_loss: 0.0200 - val_accuracy: 0.9989\n",
      "Epoch 7/25\n",
      "160/160 [==============================] - 0s 2ms/step - loss: 0.0747 - accuracy: 0.9856 - val_loss: 0.0144 - val_accuracy: 0.9989\n",
      "Epoch 8/25\n",
      "160/160 [==============================] - 0s 2ms/step - loss: 0.0873 - accuracy: 0.9734 - val_loss: 0.0180 - val_accuracy: 0.9967\n",
      "Epoch 9/25\n",
      "160/160 [==============================] - 0s 2ms/step - loss: 0.0636 - accuracy: 0.9854 - val_loss: 0.0086 - val_accuracy: 0.9989\n",
      "Epoch 10/25\n",
      "160/160 [==============================] - 0s 2ms/step - loss: 0.0542 - accuracy: 0.9883 - val_loss: 0.0088 - val_accuracy: 0.9978\n",
      "Epoch 11/25\n",
      "160/160 [==============================] - 0s 2ms/step - loss: 0.0418 - accuracy: 0.9917 - val_loss: 0.0067 - val_accuracy: 0.9989\n",
      "Epoch 12/25\n",
      "160/160 [==============================] - 0s 2ms/step - loss: 0.0369 - accuracy: 0.9937 - val_loss: 0.0045 - val_accuracy: 1.0000\n",
      "Epoch 13/25\n",
      "160/160 [==============================] - 0s 2ms/step - loss: 0.0469 - accuracy: 0.9881 - val_loss: 0.0379 - val_accuracy: 0.9811\n",
      "Epoch 14/25\n",
      "160/160 [==============================] - 0s 2ms/step - loss: 0.0522 - accuracy: 0.9838 - val_loss: 0.0055 - val_accuracy: 0.9978\n"
     ]
    }
   ],
   "source": [
    "#logdir = os.path.join(\"/home/grionan1/project/tmds_mentor/logs\", datetime.datetime.now().strftime(\"%Y%m%d-%H%M%S\"))\n",
    "#tensorboard_callback = tf.keras.callbacks.TensorBoard(logdir, histogram_freq=1)\n",
    "\n",
    "\n",
    "my_callbacks = [\n",
    "    tf.keras.callbacks.EarlyStopping(patience=2, monitor=\"val_loss\"),\n",
    "#    tensorboard_callback\n",
    "    ]\n",
    "\n",
    "history = model.fit(\n",
    "    dset_x_train, \n",
    "    dset_y_train, \n",
    "    #validation_data=(dset_x_test, dset_y_test),\n",
    "    validation_split=0.2,\n",
    "    epochs=25, \n",
    "    callbacks=my_callbacks\n",
    "    )"
   ]
  },
  {
   "cell_type": "markdown",
   "metadata": {},
   "source": [
    "# Plot Accuracy/Loss"
   ]
  },
  {
   "cell_type": "code",
   "execution_count": 54,
   "metadata": {},
   "outputs": [
    {
     "data": {
      "image/png": "[encoded data removed]",
      "text/plain": [
       "<Figure size 432x288 with 1 Axes>"
      ]
     },
     "metadata": {
      "needs_background": "light"
     },
     "output_type": "display_data"
    },
    {
     "data": {
      "image/png": "[encoded data removed]",
      "text/plain": [
       "<Figure size 432x288 with 1 Axes>"
      ]
     },
     "metadata": {
      "needs_background": "light"
     },
     "output_type": "display_data"
    }
   ],
   "source": [
    "# summarize history for accuracy\n",
    "plt.plot(history.history['accuracy'])\n",
    "plt.plot(history.history['val_accuracy'])\n",
    "plt.title('model accuracy')\n",
    "plt.ylabel('accuracy')\n",
    "plt.xlabel('epoch')\n",
    "plt.legend(['train', 'test'], loc='upper left')\n",
    "plt.show()\n",
    "plt.savefig(REPORTPATH.joinpath(\"0.2_AG_accuracy.png\"))\n",
    "# summarize history for loss\n",
    "plt.plot(history.history['loss'])\n",
    "plt.plot(history.history['val_loss'])\n",
    "plt.title('model loss')\n",
    "plt.ylabel('loss')\n",
    "plt.xlabel('epoch')\n",
    "plt.legend(['train', 'test'], loc='upper left')\n",
    "plt.savefig(REPORTPATH.joinpath(\"0.2_AG_loss.png\"))"
   ]
  },
  {
   "cell_type": "markdown",
   "metadata": {},
   "source": [
    "# Export Model"
   ]
  },
  {
   "cell_type": "code",
   "execution_count": 55,
   "metadata": {},
   "outputs": [
    {
     "name": "stdout",
     "output_type": "stream",
     "text": [
      "INFO:tensorflow:Assets written to: /home/grionan1/project/tmds_mentor/models/0.2_AG_model/assets\n"
     ]
    }
   ],
   "source": [
    "model.save(MODELPATH.joinpath('0.2_AG_model'))"
   ]
  },
  {
   "cell_type": "markdown",
   "metadata": {},
   "source": [
    "## Validation\n",
    "\n",
    "Get r2 values for predictions of the validation set."
   ]
  },
  {
   "cell_type": "code",
   "execution_count": 56,
   "metadata": {},
   "outputs": [
    {
     "name": "stdout",
     "output_type": "stream",
     "text": [
      "0.994841007579408\n"
     ]
    }
   ],
   "source": [
    "from sklearn.metrics import r2_score\n",
    "\n",
    "predicted = model.predict(dset_x_test)\n",
    "r2_ = r2_score(dset_y_test, predicted)\n",
    "print(r2_)"
   ]
  }
 ],
 "metadata": {
  "kernelspec": {
   "display_name": "tmds3_mentor",
   "language": "python",
   "name": "tmds3_mentor"
  },
  "language_info": {
   "codemirror_mode": {
    "name": "ipython",
    "version": 3
   },
   "file_extension": ".py",
   "mimetype": "text/x-python",
   "name": "python",
   "nbconvert_exporter": "python",
   "pygments_lexer": "ipython3",
   "version": "3.8.8"
  }
 },
 "nbformat": 4,
 "nbformat_minor": 4
}
