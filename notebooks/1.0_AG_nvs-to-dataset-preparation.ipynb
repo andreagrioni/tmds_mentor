{
 "cells": [
  {
   "cell_type": "code",
   "execution_count": 2,
   "metadata": {},
   "outputs": [],
   "source": [
    "import pandas as pd\n",
    "from pathlib import Path\n",
    "import uuid\n",
    "import json"
   ]
  },
  {
   "cell_type": "markdown",
   "metadata": {},
   "source": [
    "# Somascan Data Privacy Cleaning\n",
    "\n",
    "## Description\n",
    "\n",
    "Short notebook to retrieve raw somascan data, remove sensible information, and generate a final working dataset of measured protein levels plus metadata as unique subject identifier, visit, sex, race, and age."
   ]
  },
  {
   "cell_type": "markdown",
   "metadata": {},
   "source": [
    "### Setting Folders"
   ]
  },
  {
   "cell_type": "code",
   "execution_count": 11,
   "metadata": {},
   "outputs": [],
   "source": [
    "DATAPATH = Path(\"/home/grionan1/project/tmds3_mentor/data/raw\")\n",
    "somascan_data = Path(\"SOMA_QCed_Ready_4_Use_postComBat.csv\")"
   ]
  },
  {
   "cell_type": "markdown",
   "metadata": {},
   "source": [
    "### Read Somascan Dataset"
   ]
  },
  {
   "cell_type": "code",
   "execution_count": 12,
   "metadata": {},
   "outputs": [],
   "source": [
    "somascan_df = pd.read_csv(DATAPATH.joinpath(somascan_data), low_memory=False)"
   ]
  },
  {
   "cell_type": "markdown",
   "metadata": {},
   "source": [
    "### Replace Subject ID with Random Code"
   ]
  },
  {
   "cell_type": "code",
   "execution_count": 13,
   "metadata": {},
   "outputs": [],
   "source": [
    "# create random codes\n",
    "usub_mapper = { usubjid : uuid.uuid4().hex[:8] for usubjid in somascan_df.USUBJID.unique().tolist() }\n",
    "# replace the original subject id\n",
    "somascan_df['USUBJID'] = somascan_df.USUBJID.replace(usub_mapper)"
   ]
  },
  {
   "cell_type": "markdown",
   "metadata": {},
   "source": [
    "### Save Mapper\n",
    "\n",
    "Save the usub_mapper as json file"
   ]
  },
  {
   "cell_type": "code",
   "execution_count": 14,
   "metadata": {},
   "outputs": [],
   "source": [
    "with open(DATAPATH.joinpath(\"usub_mapper.json\"), 'w') as outfile:\n",
    "    json.dump(usub_mapper, outfile)"
   ]
  },
  {
   "cell_type": "markdown",
   "metadata": {},
   "source": [
    "### Create Final Datasete\n",
    "\n",
    "Raw aptamers and relevant metadata unified to new data frame."
   ]
  },
  {
   "cell_type": "code",
   "execution_count": 15,
   "metadata": {},
   "outputs": [],
   "source": [
    "# select aptamers only columns: aptamer columns tag is 'anti_'\n",
    "aptamers = somascan_df.filter(regex='anti', axis=1).copy()\n",
    "# subset metadata and add aptamers\n",
    "final_dataset = somascan_df[ ['USUBJID', 'VISIT', 'SEX', 'RACEOR', 'AGEDRV'] + aptamers.columns.tolist()].copy()"
   ]
  },
  {
   "cell_type": "markdown",
   "metadata": {},
   "source": [
    "### Save Final Dataframe"
   ]
  },
  {
   "cell_type": "code",
   "execution_count": 16,
   "metadata": {},
   "outputs": [],
   "source": [
    "final_dataset.to_csv(DATAPATH.joinpath(\"working_dataset.csv\"), index=False)"
   ]
  }
 ],
 "metadata": {
  "kernelspec": {
   "display_name": "tmds3_mentor",
   "language": "python",
   "name": "tmds3_mentor"
  },
  "language_info": {
   "codemirror_mode": {
    "name": "ipython",
    "version": 3
   },
   "file_extension": ".py",
   "mimetype": "text/x-python",
   "name": "python",
   "nbconvert_exporter": "python",
   "pygments_lexer": "ipython3",
   "version": "3.8.8"
  }
 },
 "nbformat": 4,
 "nbformat_minor": 4
}
